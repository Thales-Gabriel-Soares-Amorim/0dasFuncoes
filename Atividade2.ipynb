{
  "nbformat": 4,
  "nbformat_minor": 0,
  "metadata": {
    "colab": {
      "provenance": [],
      "authorship_tag": "ABX9TyMbPan0bycXt82j9t2ew/mf",
      "include_colab_link": true
    },
    "kernelspec": {
      "name": "python3",
      "display_name": "Python 3"
    },
    "language_info": {
      "name": "python"
    }
  },
  "cells": [
    {
      "cell_type": "markdown",
      "metadata": {
        "id": "view-in-github",
        "colab_type": "text"
      },
      "source": [
        "<a href=\"https://colab.research.google.com/github/Thales-Gabriel-Soares-Amorim/0dasFuncoes/blob/main/Atividade2.ipynb\" target=\"_parent\"><img src=\"https://colab.research.google.com/assets/colab-badge.svg\" alt=\"Open In Colab\"/></a>"
      ]
    },
    {
      "cell_type": "code",
      "source": [
        "# metodo da bissecção\n",
        "import math\n",
        "def f(x):\n",
        "  return 15*math.log(x) - math.exp(x)\n",
        "\n",
        "# dados inicais\n",
        "\n",
        "a= 1\n",
        "b= 1.5\n",
        "\n",
        "# precisão\n",
        "erro = 0.00009\n",
        "\n",
        "# n° de interações\n",
        "k=0\n",
        "\n",
        "while b-a > erro:\n",
        "  media = (a+b)/2\n",
        "\n",
        "  if f(a)*f(b)<0:\n",
        "    b = media\n",
        "  else:\n",
        "    a = media\n",
        "  k = k+1\n",
        "\n",
        "print (\"repetições: \", k)\n",
        "print (\"media obtida: \" , media)"
      ],
      "metadata": {
        "colab": {
          "base_uri": "https://localhost:8080/"
        },
        "id": "-QpRuAkMnUIf",
        "outputId": "4d89b6f4-923e-4ad3-8f34-0d004563af4a"
      },
      "execution_count": null,
      "outputs": [
        {
          "output_type": "stream",
          "name": "stdout",
          "text": [
            "repetições:  13\n",
            "media obtida:  1.24993896484375\n"
          ]
        }
      ]
    },
    {
      "cell_type": "code",
      "execution_count": null,
      "metadata": {
        "colab": {
          "base_uri": "https://localhost:8080/"
        },
        "id": "RuK6ou8hlVRt",
        "outputId": "072c4057-b621-4d4c-cca5-eee50b6c83bd"
      },
      "outputs": [
        {
          "output_type": "stream",
          "name": "stdout",
          "text": [
            "1.3147201757611373\n",
            "1.2760623634067565\n",
            "1.2687288860375816\n",
            "1.2673613688437781\n",
            "1.267107163706196\n",
            "1.2670599376596012\n",
            "repetições 6\n",
            "valor encontrado 1.2670599376596012\n"
          ]
        }
      ],
      "source": [
        "# metodo do posição falsa\n",
        "import math\n",
        "def f(x):\n",
        "  return 15*math.log(x) - math.exp(x)\n",
        "\n",
        "# dados iniciais\n",
        "\n",
        "a=1\n",
        "b=1.5\n",
        "\n",
        "mediatio = (a*f(b)-b*f(a))/(f(b)-f(a))\n",
        "# precisão\n",
        "erro = 0.00009\n",
        "\n",
        "# n° de interações\n",
        "k=0\n",
        "\n",
        "for i in range(0,1000) :\n",
        "  mediatio = (a*f(b)-b*f(a))/(f(b)-f(a))\n",
        "  print(mediatio)\n",
        "\n",
        "  if f(a)*f(mediatio)<0:\n",
        "    b = mediatio\n",
        "  else:\n",
        "    a = media\n",
        "\n",
        "  k = k+1\n",
        "  if abs(f(mediatio))< erro:\n",
        "    break\n",
        "  if f(b)-f(a)<erro:\n",
        "    break\n",
        "\n",
        "print (\"repetições\" , k)\n",
        "print (\"valor encontrado:\",mediatio)"
      ]
    },
    {
      "cell_type": "code",
      "source": [
        "# metodo do ponto fixo\n",
        "\n",
        "# função original\n",
        "import math\n",
        "def f(x):\n",
        "  return 15*math.log(x) - math.exp(x)\n",
        "\n",
        "# função de iteração\n",
        "def phi (x):\n",
        "  return math.log(15*math.log(x))\n",
        "\n",
        "# aprox inicial\n",
        "x_k = 2.5\n",
        "\n",
        "erro = 0.00009\n",
        "\n",
        "# n° de iterações\n",
        "k=0\n",
        "\n",
        "while abs(f(x_k)) > erro:\n",
        "  x_k = phi(x_k)\n",
        "  k = k+1\n",
        "\n",
        "print (\"repetições \", k)\n",
        "print (\"valor encontrado: \", x_k)"
      ],
      "metadata": {
        "colab": {
          "base_uri": "https://localhost:8080/"
        },
        "id": "0hlH5Miqrdnx",
        "outputId": "5820dee6-0222-4c5f-9fdf-c53f950e3215"
      },
      "execution_count": null,
      "outputs": [
        {
          "output_type": "stream",
          "name": "stdout",
          "text": [
            "repetições  11\n",
            "valor encontrado:  2.7020343695684255\n"
          ]
        }
      ]
    },
    {
      "cell_type": "code",
      "source": [
        "# metodo de newton\n",
        "\n",
        "#  função original\n",
        "import math\n",
        "def f(x):\n",
        "  return 15*math.log(x) - math.exp(x)\n",
        "\n",
        "# função derivada\n",
        "def f_deri(x):\n",
        "  return (15/x) - math.exp(x)\n",
        "\n",
        "# a função\n",
        "def phi(x):\n",
        "  return x - (f(x) / f_deri(x))\n",
        "\n",
        "# aprox inicial\n",
        "x_k = 1.5\n",
        "\n",
        "erro = 0.00009\n",
        "\n",
        "# n° de iterações\n",
        "k=0\n",
        "\n",
        "while abs(f(x_k)) > erro:\n",
        "  x_k = phi(x_k)\n",
        "  k = k+1\n",
        "\n",
        "print (\"repetições \", k)\n",
        "print (\"valor encontrado \", x_k)\n",
        "\n",
        "\n"
      ],
      "metadata": {
        "colab": {
          "base_uri": "https://localhost:8080/"
        },
        "id": "PRMFXmg74Z1j",
        "outputId": "41e1b71a-d3a1-45d3-d54b-c233e0b848b5"
      },
      "execution_count": null,
      "outputs": [
        {
          "output_type": "stream",
          "name": "stdout",
          "text": [
            "repetições  3\n",
            "valor encontrado  1.2670446849035857\n"
          ]
        }
      ]
    },
    {
      "cell_type": "code",
      "source": [
        "# metodo da secante\n",
        "import math\n",
        "def f(x):\n",
        "  return 15*math.log(x) - math.exp(x)\n",
        "\n",
        "# dados iniciais\n",
        "a = 1\n",
        "b = 1.5\n",
        "\n",
        "# n° de iterações\n",
        "\n",
        "k = 0\n",
        "\n",
        "erro = 0.00009\n",
        "\n",
        "while abs(f(b)) > erro:\n",
        "  x_k = (a*f(b)- b*f(a)) / (f(b) - f(a))\n",
        "\n",
        "  a = b\n",
        "  b = x_k\n",
        "  k = k+1\n",
        "\n",
        "print (\"repetições \", k)\n",
        "print (\"valor encontrado: \", x_k)"
      ],
      "metadata": {
        "id": "GrHU8-olFUZp",
        "colab": {
          "base_uri": "https://localhost:8080/"
        },
        "outputId": "39bc405a-ccf5-41af-c93a-5eb459bb67d2"
      },
      "execution_count": null,
      "outputs": [
        {
          "output_type": "stream",
          "name": "stdout",
          "text": [
            "repetições  4\n",
            "valor encontrado:  1.2670521798150578\n"
          ]
        }
      ]
    },
    {
      "cell_type": "markdown",
      "source": [
        "\n",
        "THALES GABRIEL SOARES AMORIM\n",
        "f(x) = 15ln(x) - e^x\n"
      ],
      "metadata": {
        "id": "n2MHpvUXllPO"
      }
    }
  ]
}